{
  "cells": [
    {
      "cell_type": "markdown",
      "metadata": {
        "id": "Lk97-uKveOBZ"
      },
      "source": [
        "<a href=\"https://www.nvidia.com/dli\"> <img src=\"images/DLI_Header.png\" alt=\"Header\" style=\"width: 400px;\"/> </a>"
      ]
    },
    {
      "cell_type": "markdown",
      "metadata": {
        "id": "1Q3PFQKieOBe"
      },
      "source": [
        "# JupyterLab\n",
        "Ehhez a gyakorlati laborhoz a [JupyterLab](https://jupyterlab.readthedocs.io/en/stable/) programot használjuk a környezetünk kezelésére.  A [JupyterLab Interface](https://jupyterlab.readthedocs.io/en/stable/user/interface.html) egy műszerfal, amely hozzáférést biztosít az interaktív iPython notebookokhoz, valamint a környezetünk mappaszerkezetéhez és az Ubuntu operációs rendszer terminálablakához. Az első nézet, amit láthatunk, tartalmaz egy **menüsávot** a tetején, egy **fájlböngészőt** a **bal oldalsávban**, és egy **fő munkaterületet**, amely kezdetben a \"Launcher\" oldalra van nyitva. \n",
        "\n",
        "<img src=\"images/jl_launcher.png\">\n",
        "\n",
        "A fájlböngészőben ugyanúgy lehet navigálni, mint bármely más fájlkeresőben. Bármelyik elemre való dupla kattintás egy új lapot nyit meg a tartalmával.\n",
        "\n",
        "A fő munkaterület a megnyitott fájlok füles nézeteit tartalmazza, amelyek szükség szerint bezárhatók, áthelyezhetők és szerkeszthetők. \n",
        "\n",
        "A jegyzetfüzetek, beleértve ezt is, tartalom és kód **cellák** sorozatából állnak.  Egy kódcellában lévő kód végrehajtásához nyomja meg a `Shift+Enter` billentyűkombinációt vagy a fenti menüsorban a \"Futtatás\" gombot, miközben egy cella ki van jelölve. Néha egy tartalmi cella átvált szerkesztési módba. A `Shift+Enter` billentyűkombináció megnyomásával visszaállítható olvasható formába.\n",
        "\n",
        "Próbálja meg végrehajtani az egyszerű nyomtatási utasítást az alábbi cellában."
      ]
    },
    {
      "cell_type": "code",
      "execution_count": null,
      "metadata": {
        "id": "hp1yyObqeOBe"
      },
      "outputs": [],
      "source": [
        "# Highlight this cell and click [Shift+Enter] to execute\n",
        "print('Ez csak egy egyszerű nyomtatási utasítás')"
      ]
    },
    {
      "cell_type": "markdown",
      "metadata": {
        "id": "QsNaFQ4deOBf"
      },
      "source": [
        "## GPU memória törlése"
      ]
    },
    {
      "cell_type": "markdown",
      "metadata": {
        "id": "eQ9KihC9eOBg"
      },
      "source": [
        "Időnként szükség lesz a GPU memóriájának törlésére, akár a GPU állapotának visszaállításához, ha egy kísérlet rosszul sikerül, akár két notebook között, amikor újrakezdésre van szüksége egy új gyakorlatsorozathoz.\n",
        "\n",
        "A GPU memóriájának törlésére 3 fő mód van. Az első a közvetlenül a noteszgép felett található menüben található ⟳ gomb használata. Ha most rákattintasz, akkor egy kérdőjelet kell látnod, amely megkérdezi, hogy rendben van-e a GPU memória visszaállítása.\n",
        "\n",
        "A második mód egy kódcellán keresztül történik, amelyet minden notebook végén megadunk neked. Az alábbiakban egy ilyen cella látható, amelyet lefuttathatsz, csak hogy rászokj a helyes szokásra."
      ]
    },
    {
      "cell_type": "code",
      "execution_count": null,
      "metadata": {
        "id": "PyuDH3OPeOBg"
      },
      "outputs": [],
      "source": [
        "import IPython\n",
        "app = IPython.Application.instance()\n",
        "app.kernel.do_shutdown(True)"
      ]
    },
    {
      "cell_type": "markdown",
      "metadata": {
        "id": "VZPk3DrLeOBh"
      },
      "source": [
        "Az utolsó mód a bal oldali kernel menü, a sötét kör, benne egy világos négyzettel. Míg az előző két stratégia \"lágy\" visszaállításnak tekinthető, ez inkább egy erőltetett \"kemény\" leállítás.\n",
        "\n",
        "## Következő"
      ]
    },
    {
      "cell_type": "markdown",
      "metadata": {
        "id": "UiOHfx4HeOBh"
      },
      "source": [
        "Most, hogy már megismerkedett az interaktív környezettel, a következő részben a mélytanulás \"helló világát\" fogja végrehajtani, egy neurális hálózatot képez ki a kézzel írt számjegyek képosztályozására. Kérjük, folytassa a [01_mnsist.ipynb](./01_mnist.ipynb) című részt."
      ]
    },
    {
      "cell_type": "markdown",
      "metadata": {
        "id": "_a-ky__1eOBh"
      },
      "source": [
        "<a href=\"https://www.nvidia.com/dli\"> <img src=\"images/DLI_Header.png\" alt=\"Header\" style=\"width: 400px;\"/> </a>"
      ]
    }
  ],
  "metadata": {
    "kernelspec": {
      "display_name": "Python 3",
      "language": "python",
      "name": "python3"
    },
    "language_info": {
      "codemirror_mode": {
        "name": "ipython",
        "version": 3
      },
      "file_extension": ".py",
      "mimetype": "text/x-python",
      "name": "python",
      "nbconvert_exporter": "python",
      "pygments_lexer": "ipython3",
      "version": "3.6.9"
    },
    "colab": {
      "name": "00_jupyterlab_hu.ipynb",
      "provenance": [],
      "collapsed_sections": []
    }
  },
  "nbformat": 4,
  "nbformat_minor": 0
}